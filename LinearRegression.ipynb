{
 "cells": [
  {
   "cell_type": "code",
   "execution_count": 1,
   "id": "a5f335b3",
   "metadata": {},
   "outputs": [],
   "source": [
    "import pandas as pd\n",
    "import numpy as np\n",
    "import matplotlib.pyplot as plt\n",
    "import sklearn.linear_model"
   ]
  },
  {
   "cell_type": "code",
   "execution_count": 2,
   "id": "d251139f",
   "metadata": {},
   "outputs": [],
   "source": [
    "ob = pd.read_csv(r\"C:\\Users\\wasay\\Desktop\\python\\AI\\hmlskl\\datasets\\lifesat\\oecd_bli_2015.csv\")\n",
    "gdp = pd.read_csv(r\"C:\\Users\\wasay\\Desktop\\python\\AI\\hmlskl\\datasets\\lifesat\\gdp_per_capita.csv\", encoding=\"latin1\", delimiter=\"\\t\",on_bad_lines='skip')"
   ]
  },
  {
   "cell_type": "code",
   "execution_count": 3,
   "id": "30253768",
   "metadata": {},
   "outputs": [],
   "source": [
    "def prepre_data(ob, gdp):\n",
    "    ob = ob[ob['INEQUALITY'] == 'TOT']\n",
    "    ob = ob.pivot(index='Country', columns='Indicator', values='Value')\n",
    "    \n",
    "    gdp.rename(columns={'2015' : 'GDP'}, inplace=True)\n",
    "    gdp.set_index('Country', inplace=True)\n",
    "    \n",
    "    gdp['GDP'] = gdp['GDP'].replace(',' , '', regex=True)\n",
    "    gdp['GDP'] = pd.to_numeric(gdp['GDP'], errors='coerce')\n",
    "    \n",
    "    fs = pd.merge(left=ob, right=gdp, left_index=True,right_index=True)\n",
    "    return fs[['Life satisfaction','GDP']]"
   ]
  },
  {
   "cell_type": "code",
   "execution_count": 4,
   "id": "5e0d4322",
   "metadata": {},
   "outputs": [
    {
     "name": "stdout",
     "output_type": "stream",
     "text": [
      "                 Life satisfaction         GDP\n",
      "Country                                       \n",
      "Australia                      7.3   50961.865\n",
      "Austria                        6.9   43724.031\n",
      "Belgium                        6.9   40106.632\n",
      "Brazil                         7.0    8669.998\n",
      "Canada                         7.3   43331.961\n",
      "Chile                          6.7   13340.905\n",
      "Czech Republic                 6.5   17256.918\n",
      "Denmark                        7.5   52114.165\n",
      "Estonia                        5.6   17288.083\n",
      "Finland                        7.4   41973.988\n",
      "France                         6.5   37675.006\n",
      "Germany                        7.0   40996.511\n",
      "Greece                         4.8   18064.288\n",
      "Hungary                        4.9   12239.894\n",
      "Iceland                        7.5   50854.583\n",
      "Ireland                        7.0   51350.744\n",
      "Israel                         7.4   35343.336\n",
      "Italy                          6.0   29866.581\n",
      "Japan                          5.9   32485.545\n",
      "Korea                          5.8   27195.197\n",
      "Luxembourg                     6.9  101994.093\n",
      "Mexico                         6.7    9009.280\n",
      "Netherlands                    7.3   43603.115\n",
      "New Zealand                    7.3   37044.891\n",
      "Norway                         7.4   74822.106\n",
      "Poland                         5.8   12495.334\n",
      "Portugal                       5.1   19121.592\n",
      "Russia                         6.0    9054.914\n",
      "Slovak Republic                6.1   15991.736\n",
      "Slovenia                       5.7   20732.482\n",
      "Spain                          6.5   25864.721\n",
      "Sweden                         7.2   49866.266\n",
      "Switzerland                    7.5   80675.308\n",
      "Turkey                         5.6    9437.372\n",
      "United Kingdom                 6.8   43770.688\n",
      "United States                  7.2   55805.204\n"
     ]
    }
   ],
   "source": [
    "cs = prepre_data(ob, gdp)\n",
    "x = np.c_[cs['GDP']]\n",
    "y = np.c_[cs['Life satisfaction']]\n",
    "print(cs)"
   ]
  },
  {
   "cell_type": "code",
   "execution_count": 5,
   "id": "24c5d750",
   "metadata": {},
   "outputs": [
    {
     "data": {
      "image/png": "[encoded data removed]",
      "text/plain": [
       "<Figure size 640x480 with 1 Axes>"
      ]
     },
     "metadata": {},
     "output_type": "display_data"
    }
   ],
   "source": [
    "cs.plot(kind='scatter', x='GDP', y='Life satisfaction')\n",
    "plt.show()"
   ]
  },
  {
   "cell_type": "code",
   "execution_count": 6,
   "id": "2e1da5f7",
   "metadata": {},
   "outputs": [
    {
     "name": "stdout",
     "output_type": "stream",
     "text": [
      "[[6.28653637]]\n"
     ]
    }
   ],
   "source": [
    "model = sklearn.linear_model.LinearRegression()\n",
    "model.fit(x, y)\n",
    "x_new = [[22587]]\n",
    "print(model.predict(x_new))"
   ]
  },
  {
   "cell_type": "code",
   "execution_count": null,
   "id": "af28415f",
   "metadata": {},
   "outputs": [],
   "source": []
  }
 ],
 "metadata": {
  "kernelspec": {
   "display_name": "Python 3",
   "language": "python",
   "name": "python3"
  },
  "language_info": {
   "codemirror_mode": {
    "name": "ipython",
    "version": 3
   },
   "file_extension": ".py",
   "mimetype": "text/x-python",
   "name": "python",
   "nbconvert_exporter": "python",
   "pygments_lexer": "ipython3",
   "version": "3.12.4"
  }
 },
 "nbformat": 4,
 "nbformat_minor": 5
}
